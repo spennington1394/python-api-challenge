{
 "cells": [
  {
   "cell_type": "code",
   "execution_count": 76,
   "metadata": {},
   "outputs": [],
   "source": [
    "import matplotlib.pyplot as plt\n",
    "import pandas as pd\n",
    "import numpy as np\n",
    "import requests\n",
    "import time\n",
    "from scipy.stats import linregress"
   ]
  },
  {
   "cell_type": "code",
   "execution_count": 77,
   "metadata": {},
   "outputs": [],
   "source": [
    "#import api_key\n",
    "from config import api_key"
   ]
  },
  {
   "cell_type": "code",
   "execution_count": 78,
   "metadata": {},
   "outputs": [],
   "source": [
    "#from citipy import citipy\n",
    "from citipy import citipy\n",
    "temp = 'imperial'\n",
    "url='http://api.openweathermap.org/data/2.5/weather?'"
   ]
  },
  {
   "cell_type": "code",
   "execution_count": 79,
   "metadata": {
    "scrolled": true
   },
   "outputs": [],
   "source": [
    "query_url = f'{url}appid={api_key}&q={city}&units={temp}'"
   ]
  },
  {
   "cell_type": "code",
   "execution_count": 88,
   "metadata": {},
   "outputs": [
    {
     "data": {
      "text/plain": [
       "{'coord': {'lon': -73.97, 'lat': 42.6},\n",
       " 'weather': [{'id': 501,\n",
       "   'main': 'Rain',\n",
       "   'description': 'moderate rain',\n",
       "   'icon': '10d'}],\n",
       " 'base': 'stations',\n",
       " 'main': {'temp': 45.46,\n",
       "  'feels_like': 43.23,\n",
       "  'temp_min': 45,\n",
       "  'temp_max': 46,\n",
       "  'pressure': 1008,\n",
       "  'humidity': 90},\n",
       " 'visibility': 10000,\n",
       " 'wind': {'speed': 0.98, 'deg': 86},\n",
       " 'rain': {'1h': 1.33},\n",
       " 'clouds': {'all': 100},\n",
       " 'dt': 1603984062,\n",
       " 'sys': {'type': 3,\n",
       "  'id': 19530,\n",
       "  'country': 'US',\n",
       "  'sunrise': 1603970784,\n",
       "  'sunset': 1604008352},\n",
       " 'timezone': -14400,\n",
       " 'id': 5106841,\n",
       " 'name': 'Albany',\n",
       " 'cod': 200}"
      ]
     },
     "execution_count": 88,
     "metadata": {},
     "output_type": "execute_result"
    }
   ],
   "source": [
    "city = 'albany'\n",
    "response = requests.get(query_url).json()\n",
    "response"
   ]
  },
  {
   "cell_type": "code",
   "execution_count": 82,
   "metadata": {},
   "outputs": [],
   "source": [
    "#range of lat and long\n",
    "lat = (-90,90)\n",
    "long = (-180,180)"
   ]
  },
  {
   "cell_type": "code",
   "execution_count": 83,
   "metadata": {},
   "outputs": [
    {
     "data": {
      "text/plain": [
       "614"
      ]
     },
     "execution_count": 83,
     "metadata": {},
     "output_type": "execute_result"
    }
   ],
   "source": [
    "lat_longs = []\n",
    "cities = []\n",
    "\n",
    "lats = np.random.uniform(lat[0],lat[1],size=1500)\n",
    "longs = np.random.uniform(long[0],long[1],size=1500)\n",
    "lat_longs = zip(lats, longs)\n",
    "\n",
    "for lat_long in lat_longs:\n",
    "    city = citipy.nearest_city(lat_long[0], lat_long[1]).city_name\n",
    "    \n",
    "    if city not in cities:\n",
    "        cities.append(city)\n",
    "        \n",
    "len(cities)"
   ]
  },
  {
   "cell_type": "code",
   "execution_count": 84,
   "metadata": {},
   "outputs": [],
   "source": [
    "#lat_longs"
   ]
  },
  {
   "cell_type": "code",
   "execution_count": 85,
   "metadata": {},
   "outputs": [],
   "source": [
    "#cities"
   ]
  },
  {
   "cell_type": "code",
   "execution_count": null,
   "metadata": {},
   "outputs": [],
   "source": []
  },
  {
   "cell_type": "code",
   "execution_count": 90,
   "metadata": {},
   "outputs": [],
   "source": [
    "cities_two = []\n",
    "cloudiness = []\n",
    "dates = []\n",
    "humidity = []\n",
    "lats = []\n",
    "lngs = []\n",
    "max_temps = []\n",
    "wind_speeds = []\n",
    "\n",
    "# loops for creating dataframe columns\n",
    "for city in cities:\n",
    "    response = requests.get(query_url+city).json()\n",
    "    cloudiness.append(response['clouds']['all'])\n",
    "    dates.append(response['dt'])\n",
    "    humidity.append(response['main']['humidity'])\n",
    "    lats.append(response['coord']['lat'])\n",
    "    lngs.append(response['coord']['lon'])\n",
    "    max_temps.append(response['main']['temp_max'])\n",
    "    wind_speeds.append(response['wind']['speed'])\n",
    "    "
   ]
  },
  {
   "cell_type": "code",
   "execution_count": null,
   "metadata": {},
   "outputs": [],
   "source": []
  }
 ],
 "metadata": {
  "kernelspec": {
   "display_name": "PythonDataUPenn",
   "language": "python",
   "name": "pythondataupenn"
  },
  "language_info": {
   "codemirror_mode": {
    "name": "ipython",
    "version": 3
   },
   "file_extension": ".py",
   "mimetype": "text/x-python",
   "name": "python",
   "nbconvert_exporter": "python",
   "pygments_lexer": "ipython3",
   "version": "3.6.10"
  }
 },
 "nbformat": 4,
 "nbformat_minor": 4
}
